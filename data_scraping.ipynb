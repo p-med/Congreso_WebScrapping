{
 "cells": [
  {
   "cell_type": "code",
   "execution_count": 169,
   "metadata": {},
   "outputs": [],
   "source": [
    "import requests\n",
    "import pandas as pd\n",
    "import json\n"
   ]
  },
  {
   "cell_type": "code",
   "execution_count": 64,
   "metadata": {},
   "outputs": [],
   "source": [
    "#Conseguir la lista de parlamentarios con sus ID\n",
    "parlamentarios = requests.get('http://datos.congreso.gov.py/opendata/api/data/parlamentario').text"
   ]
  },
  {
   "cell_type": "code",
   "execution_count": 42,
   "metadata": {},
   "outputs": [],
   "source": [
    "# Cargar el JSON a un DataFrame\n",
    "df = pd.read_json(parlamentarios)\n",
    "# Guardar el DF como un archivo CSV \n",
    "df.to_csv(\"parlamentarios.csv\", index=False)"
   ]
  },
  {
   "cell_type": "code",
   "execution_count": 65,
   "metadata": {},
   "outputs": [],
   "source": [
    "parlamentarios = json.loads(parlamentarios)"
   ]
  },
  {
   "cell_type": "code",
   "execution_count": 179,
   "metadata": {},
   "outputs": [],
   "source": [
    "# Conseguir el dataset de parlamentarios.\n",
    "parlamentarios = requests.get('http://datos.congreso.gov.py/opendata/api/data/parlamentario').text\n",
    "\n",
    "# Cargar el JSON en un Data Frame para leer con pandas.\n",
    "df_parlamentarios = pd.read_json(parlamentarios)\n",
    "\n",
    "# Conseguir la lista de ids del data frame.\n",
    "congressman_ids = df_parlamentarios['idParlamentario'].tolist()"
   ]
  },
  {
   "cell_type": "code",
   "execution_count": 183,
   "metadata": {},
   "outputs": [],
   "source": [
    "# Crear una lista vacia de dataframes.\n",
    "dataframes = []"
   ]
  },
  {
   "cell_type": "code",
   "execution_count": null,
   "metadata": {},
   "outputs": [],
   "source": [
    "\n",
    "# Definir una funcion que extrae dos atributos de la columna proyectos\n",
    "def extract_proyecto(row):\n",
    " proyecto = row['proyectos']\n",
    " # Chequear si el campo proyecto esta vacio\n",
    " if pd.isna(proyecto) or len(proyecto) == 0:\n",
    "  # Regresar dos strings vacios con el indice dado\n",
    "  return pd.Series(['', ''], index=['idProyecto', 'iniciativa'])\n",
    " else:\n",
    "  # Proceder como antes\n",
    "  idProyecto = proyecto.get('idProyecto', '')\n",
    "  iniciativa = proyecto.get('iniciativa', '')\n",
    "  return pd.Series([idProyecto, iniciativa], index=['idProyecto', 'iniciativa'])"
   ]
  },
  {
   "cell_type": "code",
   "execution_count": null,
   "metadata": {},
   "outputs": [],
   "source": [
    "# Loop a traves de la lista y traer la informacion de cada congresista.\n",
    "for congressman_id in congressman_ids:\n",
    " # Intentar hacer el pedido\n",
    " try:\n",
    "  # Se hace el pedido con un timeout a 60 segundos por la cantidad de pedidos grandes\n",
    "  datos_congresistas = requests.get(f'http://datos.congreso.gov.py/opendata/api/data/parlamentario/{congressman_id}/proyectos', timeout=60).text\n",
    " except requests.exceptions.ConnectionError as e:\n",
    "  # Manejar los errores de coneccion\n",
    "  print(f'Connection error for id {congressman_id}: {e}')\n",
    "  # Saltar esta iteracion\n",
    "  continue\n",
    " except requests.exceptions.ReadTimeout as e:\n",
    "  # Manejar los errores de timeout\n",
    "  print(f'Read timeout error for id {congressman_id}: {e}')\n",
    "  # Saltar esta iteracion\n",
    "  continue\n",
    "\n",
    " # Pasar el JSON a un objeto de Python\n",
    " datos_congresistas = json.loads(datos_congresistas)\n",
    "\n",
    " # Chequear si datos_congresistas esta vacio\n",
    " if not datos_abdo: # Va a retornar falso si datos_congresistas es un objeto vacio\n",
    "  # Saltar esta iteracion\n",
    "  continue\n",
    " else:\n",
    "  # Debido a otros errores, debemos revisar si datos_congresistas posee valores escalares\n",
    "  if type(datos_congresistas) == dict and all(type(v) in (int, float, str, bool) for v in datos_congresistas.values()):\n",
    "   # Saltar esta iteracion\n",
    "   continue\n",
    "  else:\n",
    "   # Cargar el objeto de Python a Data Frames.\n",
    "   df = pd.DataFrame(datos_congresistas)\n",
    "\n",
    "   # Aplicar la funcion para extraer datos de la columna proyectos, en particular el ide del proyecto y la iniciativa.\n",
    "   df[['idProyecto', 'iniciativa']] = df.apply(extract_proyecto, axis=1)\n",
    "\n",
    "   # Remover la palabra 'PARLAMENTARIA:' al inicio de los nombres de los autores del proyecto de ley.\n",
    "   df['iniciativa'] = df['iniciativa'].str.replace('PARLAMENTARIA:', '')\n",
    "\n",
    "   # Agregar el dataframes a la lista.\n",
    "   dataframes.append(df)"
   ]
  },
  {
   "cell_type": "code",
   "execution_count": null,
   "metadata": {},
   "outputs": [],
   "source": [
    "# Combinar los dos dataframes.\n",
    "df = pd.concat(dataframes)"
   ]
  },
  {
   "cell_type": "code",
   "execution_count": null,
   "metadata": {},
   "outputs": [],
   "source": [
    "# Eliminar o 'soltar' la columna proyectos para reducir el tamano final del documento.\n",
    "df = df.drop('proyectos', axis=1)"
   ]
  },
  {
   "cell_type": "code",
   "execution_count": null,
   "metadata": {},
   "outputs": [],
   "source": [
    "\n",
    "# Guardar el resultado en csv.\n",
    "df.to_csv('congresistas_proyectos.csv', index=False)"
   ]
  }
 ],
 "metadata": {
  "kernelspec": {
   "display_name": "Python 3",
   "language": "python",
   "name": "python3"
  },
  "language_info": {
   "codemirror_mode": {
    "name": "ipython",
    "version": 3
   },
   "file_extension": ".py",
   "mimetype": "text/x-python",
   "name": "python",
   "nbconvert_exporter": "python",
   "pygments_lexer": "ipython3",
   "version": "3.11.3"
  },
  "orig_nbformat": 4
 },
 "nbformat": 4,
 "nbformat_minor": 2
}
